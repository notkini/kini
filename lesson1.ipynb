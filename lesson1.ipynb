{
  "cells": [
    {
      "cell_type": "markdown",
      "metadata": {
        "id": "view-in-github",
        "colab_type": "text"
      },
      "source": [
        "<a href=\"https://colab.research.google.com/github/notkini/kini/blob/main/lesson1.ipynb\" target=\"_parent\"><img src=\"https://colab.research.google.com/assets/colab-badge.svg\" alt=\"Open In Colab\"/></a>"
      ]
    },
    {
      "cell_type": "markdown",
      "source": [
        "concatenation of lists"
      ],
      "metadata": {
        "id": "o88ICM7bGIU7"
      }
    },
    {
      "cell_type": "code",
      "source": [
        "list1=[1,2,3]\n",
        "list2=[4,5,6]\n",
        "result=list1+list2\n",
        "print(result)"
      ],
      "metadata": {
        "colab": {
          "base_uri": "https://localhost:8080/"
        },
        "id": "nYUrmC6ZBnvc",
        "outputId": "a6673c4b-b1e1-4275-d6da-c050b840c97f"
      },
      "execution_count": 1,
      "outputs": [
        {
          "output_type": "stream",
          "name": "stdout",
          "text": [
            "[1, 2, 3, 4, 5, 6]\n"
          ]
        }
      ]
    },
    {
      "cell_type": "markdown",
      "source": [
        "concatenatoon and multiplying of string"
      ],
      "metadata": {
        "id": "UZbZzHw2HNf4"
      }
    },
    {
      "cell_type": "code",
      "source": [
        "str1='Hello'\n",
        "str2='World'\n",
        "result=str1+str2\n",
        "print(result)\n",
        "result_1=str1*3\n",
        "print(result_1)"
      ],
      "metadata": {
        "id": "OYFdz9bDHiP8",
        "outputId": "83eda70f-9950-4877-d724-75f59e0dacfd",
        "colab": {
          "base_uri": "https://localhost:8080/"
        }
      },
      "execution_count": 3,
      "outputs": [
        {
          "output_type": "stream",
          "name": "stdout",
          "text": [
            "HelloWorld\n",
            "HelloHelloHello\n"
          ]
        }
      ]
    },
    {
      "cell_type": "markdown",
      "source": [
        ".copy() can be used to copy contents of dictionary\n",
        ".clear() can be used to clear contents of dictionary"
      ],
      "metadata": {
        "id": "kkvFQYbPH7sY"
      }
    },
    {
      "cell_type": "markdown",
      "source": [
        "Operators of set operation"
      ],
      "metadata": {
        "id": "g43_cSqGIXJj"
      }
    }
  ],
  "metadata": {
    "colab": {
      "provenance": [],
      "include_colab_link": true
    },
    "kernelspec": {
      "display_name": "Python 3",
      "name": "python3"
    }
  },
  "nbformat": 4,
  "nbformat_minor": 0
}